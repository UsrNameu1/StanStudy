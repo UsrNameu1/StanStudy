{
 "cells": [
  {
   "cell_type": "code",
   "execution_count": 1,
   "metadata": {
    "collapsed": false
   },
   "outputs": [],
   "source": [
    "import pystan\n",
    "import numpy as np"
   ]
  },
  {
   "cell_type": "code",
   "execution_count": 2,
   "metadata": {
    "collapsed": false
   },
   "outputs": [],
   "source": [
    "model = \"\"\"\n",
    "data {\n",
    "  int<lower=0> N;\n",
    "  vector[N] x;\n",
    "  vector[N] y;\n",
    "}\n",
    "parameters { \n",
    "  real alpha;\n",
    "  real beta;\n",
    "  real<lower=0> sigma;\n",
    "}\n",
    "model { \n",
    "  y ~ normal(alpha + beta * x, sigma);\n",
    "}\n",
    "\"\"\""
   ]
  },
  {
   "cell_type": "code",
   "execution_count": 3,
   "metadata": {
    "collapsed": false
   },
   "outputs": [],
   "source": [
    "datum = np.loadtxt(\"women.tsv\", delimiter=\"\\t\", usecols=(1, 2), skiprows=1)"
   ]
  },
  {
   "cell_type": "code",
   "execution_count": 4,
   "metadata": {
    "collapsed": false
   },
   "outputs": [],
   "source": [
    "weights = np.transpose(datum)[0]\n",
    "heights = np.transpose(datum)[1]"
   ]
  },
  {
   "cell_type": "code",
   "execution_count": 5,
   "metadata": {
    "collapsed": false
   },
   "outputs": [],
   "source": [
    "fit = pystan.stan(model_code=model, data=dict(y=heights, x=weights, N=len(heights)))"
   ]
  },
  {
   "cell_type": "code",
   "execution_count": 6,
   "metadata": {
    "collapsed": false
   },
   "outputs": [
    {
     "name": "stdout",
     "output_type": "stream",
     "text": [
      "Inference for Stan model: anon_model_d5c9515652e6c049f3e6b6cc53cb45ed.\n",
      "4 chains, each with iter=2000; warmup=1000; thin=1; \n",
      "post-warmup draws per chain=1000, total post-warmup draws=4000.\n",
      "\n",
      "        mean se_mean     sd   2.5%    25%    50%    75%  97.5%  n_eff   Rhat\n",
      "alpha -87.74    0.28   6.47 -100.8 -91.74 -87.76 -83.47 -75.31  547.0    1.0\n",
      "beta    3.45  4.3e-3    0.1   3.26   3.39   3.45   3.51   3.65  544.0    1.0\n",
      "sigma   1.68    0.01   0.36   1.14   1.43   1.62   1.88    2.5  609.0    1.0\n",
      "lp__  -13.97    0.05   1.25 -17.18 -14.56 -13.66 -13.02 -12.49  636.0    1.0\n",
      "\n",
      "Samples were drawn using NUTS(diag_e) at Mon Jun 27 14:00:44 2016.\n",
      "For each parameter, n_eff is a crude measure of effective sample size,\n",
      "and Rhat is the potential scale reduction factor on split chains (at \n",
      "convergence, Rhat=1).\n"
     ]
    }
   ],
   "source": [
    "print(fit)"
   ]
  },
  {
   "cell_type": "code",
   "execution_count": 7,
   "metadata": {
    "collapsed": false
   },
   "outputs": [
    {
     "data": {
      "text/plain": [
       "<matplotlib.figure.Figure at 0x124697250>"
      ]
     },
     "execution_count": 7,
     "metadata": {},
     "output_type": "execute_result"
    }
   ],
   "source": [
    "fit.plot()"
   ]
  },
  {
   "cell_type": "code",
   "execution_count": 10,
   "metadata": {
    "collapsed": true
   },
   "outputs": [],
   "source": [
    "import matplotlib.pyplot as plt\n",
    "%matplotlib inline"
   ]
  },
  {
   "cell_type": "code",
   "execution_count": 11,
   "metadata": {
    "collapsed": false
   },
   "outputs": [],
   "source": [
    "samples = fit.extract(permuted=True)\n",
    "alpha = np.median(samples[\"alpha\"])\n",
    "beta = np.median(samples[\"beta\"])"
   ]
  },
  {
   "cell_type": "code",
   "execution_count": 12,
   "metadata": {
    "collapsed": false
   },
   "outputs": [
    {
     "data": {
      "image/png": "[encoded data removed]",
      "text/plain": [
       "<matplotlib.figure.Figure at 0x12407a490>"
      ]
     },
     "metadata": {},
     "output_type": "display_data"
    }
   ],
   "source": [
    "plt.plot(weights, heights, \"o\")\n",
    "plt.plot(weights, alpha + beta * weights)\n",
    "plt.show()"
   ]
  },
  {
   "cell_type": "code",
   "execution_count": 13,
   "metadata": {
    "collapsed": false
   },
   "outputs": [
    {
     "data": {
      "text/plain": [
       "array([[  58.,  115.],\n",
       "       [  59.,  117.],\n",
       "       [  60.,  120.],\n",
       "       [  61.,  123.],\n",
       "       [  62.,  126.],\n",
       "       [  63.,  129.],\n",
       "       [  64.,  132.],\n",
       "       [  65.,  135.],\n",
       "       [  66.,  139.],\n",
       "       [  67.,  142.],\n",
       "       [  68.,  146.],\n",
       "       [  69.,  150.],\n",
       "       [  70.,  154.],\n",
       "       [  71.,  159.],\n",
       "       [  72.,  164.]])"
      ]
     },
     "execution_count": 13,
     "metadata": {},
     "output_type": "execute_result"
    }
   ],
   "source": [
    "datum"
   ]
  },
  {
   "cell_type": "code",
   "execution_count": 14,
   "metadata": {
    "collapsed": false
   },
   "outputs": [
    {
     "data": {
      "text/plain": [
       "OrderedDict([(u'alpha',\n",
       "              array([ -85.17751526,  -89.09972412,  -96.56231134, ...,  -77.48670801,\n",
       "                      -97.5094758 , -100.19309052])),\n",
       "             (u'beta',\n",
       "              array([ 3.41249023,  3.47840149,  3.58665085, ...,  3.29621573,\n",
       "                      3.60254252,  3.63828803])),\n",
       "             (u'sigma',\n",
       "              array([ 1.94685732,  1.51147492,  1.17916977, ...,  1.31154517,\n",
       "                      2.03663507,  1.86467662])),\n",
       "             (u'lp__',\n",
       "              array([-13.38668679, -12.67667206, -15.20328873, ..., -14.51470653,\n",
       "                     -14.3988749 , -14.91153716]))])"
      ]
     },
     "execution_count": 14,
     "metadata": {},
     "output_type": "execute_result"
    }
   ],
   "source": [
    "samples"
   ]
  },
  {
   "cell_type": "code",
   "execution_count": null,
   "metadata": {
    "collapsed": true
   },
   "outputs": [],
   "source": []
  }
 ],
 "metadata": {
  "kernelspec": {
   "display_name": "Python 2",
   "language": "python",
   "name": "python2"
  },
  "language_info": {
   "codemirror_mode": {
    "name": "ipython",
    "version": 2
   },
   "file_extension": ".py",
   "mimetype": "text/x-python",
   "name": "python",
   "nbconvert_exporter": "python",
   "pygments_lexer": "ipython2",
   "version": "2.7.11"
  }
 },
 "nbformat": 4,
 "nbformat_minor": 0
}
